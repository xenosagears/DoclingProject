{
 "cells": [
  {
   "cell_type": "markdown",
   "id": "4b336c9f",
   "metadata": {},
   "source": [
    "## 1) Import Libraries"
   ]
  },
  {
   "cell_type": "code",
   "execution_count": null,
   "id": "15bd2798",
   "metadata": {},
   "outputs": [],
   "source": [
    "import time\n",
    "import requests\n",
    "import pandas as pd\n",
    "import matplotlib.pyplot as plt\n",
    "import math\n",
    "import os\n",
    "from pathlib import Path\n",
    "from IPython.display import display\n",
    "\n",
    "from docling.datamodel.base_models import FigureElement, InputFormat, Table\n",
    "from docling.backend.docling_parse_backend import DoclingParseDocumentBackend\n",
    "from docling.document_converter import DocumentConverter, PdfFormatOption\n",
    "from docling_core.types.doc import ImageRefMode, PictureItem, TableItem\n",
    "from docling.datamodel.pipeline_options import (\n",
    "    EasyOcrOptions,\n",
    "    OcrMacOptions,\n",
    "    PdfPipelineOptions,\n",
    "    RapidOcrOptions,\n",
    "    TesseractCliOcrOptions,\n",
    "    TesseractOcrOptions\n",
    ")"
   ]
  },
  {
   "cell_type": "markdown",
   "id": "967ada0d",
   "metadata": {},
   "source": [
    "## 2) Example via document"
   ]
  },
  {
   "cell_type": "code",
   "execution_count": null,
   "id": "187192db",
   "metadata": {},
   "outputs": [],
   "source": [
    "start_time = time.time()\n",
    "source = \"documents/PDF-IAS-2025-10-CompleteIssue.pdf\"\n",
    "\n",
    "converter = DocumentConverter()\n",
    "result = converter.convert(source)\n",
    "\n",
    "end_time = time.time() - start_time\n",
    "\n",
    "print(f'Total time take for parsing {end_time:.2f} seconds.')"
   ]
  },
  {
   "cell_type": "code",
   "execution_count": null,
   "id": "a3600206",
   "metadata": {},
   "outputs": [],
   "source": [
    "print(result.document.export_to_markdown())"
   ]
  },
  {
   "cell_type": "markdown",
   "id": "c79a5948",
   "metadata": {},
   "source": [
    "## 3) Advanced Features of docling"
   ]
  },
  {
   "cell_type": "markdown",
   "id": "4ac0694a",
   "metadata": {},
   "source": [
    "### 3.1) Parser Pipeline"
   ]
  },
  {
   "cell_type": "code",
   "execution_count": null,
   "id": "b4ede88c",
   "metadata": {},
   "outputs": [],
   "source": [
    "IMAGE_RESOLUTION_SCALE = 2.0\n",
    "\n",
    "input_doc_path = Path(source)\n",
    "\n",
    "pipeline_options = PdfPipelineOptions()\n",
    "pipeline_options.images_scale = IMAGE_RESOLUTION_SCALE\n",
    "pipeline_options.generate_page_images = True\n",
    "pipeline_options.generate_picture_images = True\n",
    "\n",
    "doc_converter = DocumentConverter(\n",
    "    format_options={\n",
    "        InputFormat.PDF: PdfFormatOption(pipeline_options=pipeline_options)\n",
    "    }\n",
    ")"
   ]
  },
  {
   "cell_type": "code",
   "execution_count": null,
   "id": "23fb2e35",
   "metadata": {},
   "outputs": [],
   "source": [
    "start_time = time.time()\n",
    "conv_res = doc_converter.convert(input_doc_path)\n",
    "end_time = time.time() - start_time\n",
    "print(f'Total time take for parsing {end_time:.2f} seconds.')"
   ]
  },
  {
   "cell_type": "markdown",
   "id": "5cf21af8",
   "metadata": {},
   "source": [
    "### 3.2) Extract metadata"
   ]
  },
  {
   "cell_type": "code",
   "execution_count": null,
   "id": "07f5e8aa",
   "metadata": {},
   "outputs": [],
   "source": [
    "print('Document Name: ', conv_res.document.origin.filename)\n",
    "print('Document Type: ', conv_res.document.origin.mimetype)\n",
    "print('Number of Pages: ', len(conv_res.document.pages.keys()))\n",
    "print('Number of Text Elements: ', len(conv_res.document.dict()['texts']))\n",
    "print('Number of Text Tables: ', len(conv_res.document.dict()['tables']))\n",
    "print('Number of Text Images: ', len(conv_res.document.dict()['pictures']))"
   ]
  },
  {
   "cell_type": "markdown",
   "id": "72c5e680",
   "metadata": {},
   "source": [
    "#### 3.2.1) Iterate through text units"
   ]
  },
  {
   "cell_type": "code",
   "execution_count": null,
   "id": "3c6c0575",
   "metadata": {},
   "outputs": [],
   "source": [
    "results_body = conv_res.document.dict()\n",
    "\n",
    "dict_list = []\n",
    "\n",
    "texts = results_body['texts']\n",
    "for t in texts:\n",
    "    ref = t['self_ref']\n",
    "    text_content = t['text']\n",
    "    page = t['prov'][0]['page_no']\n",
    "    dict_list.append({'text_reference':ref, 'page': page, 'text_content(first 500 chars)':text_content[:500]})"
   ]
  },
  {
   "cell_type": "code",
   "execution_count": null,
   "id": "16c325a6",
   "metadata": {},
   "outputs": [],
   "source": [
    "df_text = pd.DataFrame(dict_list)\n",
    "\n",
    "df_text"
   ]
  },
  {
   "cell_type": "markdown",
   "id": "a8af2f6f",
   "metadata": {},
   "source": [
    "#### 3.2.2) Iterate through Tables"
   ]
  },
  {
   "cell_type": "code",
   "execution_count": null,
   "id": "0592669a",
   "metadata": {},
   "outputs": [],
   "source": [
    "tables = results_body['tables']\n",
    "dict_list = []\n",
    "\n",
    "for t in tables:\n",
    "    ref = t['self_ref']\n",
    "    page = t['prov'][0]['page_no']\n",
    "\n",
    "    table_captions = t['captions']\n",
    "    if(len(table_captions) and 'cref' in table_captions[0].keys()):\n",
    "        table_caption = table_captions[0]['cref']\n",
    "    else:\n",
    "        table_caption = 'No Caption'\n",
    "    table_data = str(t['data'])[:100]\n",
    "\n",
    "    dict_list.append({'table_reference':ref, 'page': page, 'table_captions': table_captions,'table_data(first 100 chars)':table_data})"
   ]
  },
  {
   "cell_type": "code",
   "execution_count": null,
   "id": "e31c3e8e",
   "metadata": {},
   "outputs": [],
   "source": [
    "df_table = pd.DataFrame(dict_list)\n",
    "\n",
    "df_table"
   ]
  },
  {
   "cell_type": "markdown",
   "id": "9d413f36",
   "metadata": {},
   "source": [
    "#### 3.2.3) Iterate through Images"
   ]
  },
  {
   "cell_type": "code",
   "execution_count": null,
   "id": "f137eef9",
   "metadata": {},
   "outputs": [],
   "source": [
    "images = results_body['pictures']\n",
    "dict_list = []\n",
    "\n",
    "for i in images:\n",
    "    ref = i['self_ref']\n",
    "    page = i['prov'][0]['page_no']\n",
    "\n",
    "    image_captions = i['captions']\n",
    "\n",
    "    if(len(image_captions) and 'cref' in image_captions[0].keys()):\n",
    "        image_caption = image_captions[0]['cref']\n",
    "    else:\n",
    "        image_caption = 'No Caption'\n",
    "    image_data = str(t['image'])[:100]\n",
    "\n",
    "    dict_list.append({'image_reference':ref, 'page': page, 'image_captions': image_captions,'image_data(first 100 chars)':image_data})"
   ]
  },
  {
   "cell_type": "code",
   "execution_count": null,
   "id": "aaf9844c",
   "metadata": {},
   "outputs": [],
   "source": [
    "df_image = pd.DataFrame(dict_list)\n",
    "\n",
    "df_image"
   ]
  },
  {
   "cell_type": "markdown",
   "id": "d552f4c5",
   "metadata": {},
   "source": [
    "### 3.3) Iterate though the pages of the document"
   ]
  },
  {
   "cell_type": "code",
   "execution_count": null,
   "id": "7b118d8d",
   "metadata": {},
   "outputs": [],
   "source": [
    "## Display the pages\n",
    "\n",
    "def display_images(images, images_per_row=5, figsize=(15,8)):\n",
    "\n",
    "    # handle dictionary or list input\n",
    "    if isinstance(images, dict):\n",
    "        images = list(images.values())\n",
    "\n",
    "    # calculate number of rows needed\n",
    "    num_rows = math.ceil(len(images)/images_per_row)\n",
    "\n",
    "    # create subplots\n",
    "    fig, axes = plt.subplots(num_rows, images_per_row, figsize=figsize)\n",
    "    axes = axes.flatten() #flatten axes for easier iteration\n",
    "\n",
    "    # plot images\n",
    "    for ax, image in zip(axes, images):\n",
    "        ax.imshow(image)\n",
    "        ax.axis('off')\n",
    "\n",
    "    # turn off unused axes\n",
    "    for ax in axes[len(images):]:\n",
    "        ax.axis('off')\n",
    "\n",
    "    # adjust layout and display\n",
    "    plt.tight_layout()\n",
    "    plt.show()"
   ]
  },
  {
   "cell_type": "code",
   "execution_count": null,
   "id": "58c43a1b",
   "metadata": {},
   "outputs": [],
   "source": [
    "page_images = {page_no: page.image.pil_image for page_no, page in conv_res.document.pages.items()}\n",
    "display_images(page_images, images_per_row=5, figsize=(15,8))"
   ]
  },
  {
   "cell_type": "markdown",
   "id": "1c7b6263",
   "metadata": {},
   "source": [
    "#### Save the page images to directory"
   ]
  },
  {
   "cell_type": "code",
   "execution_count": null,
   "id": "bf3ff230",
   "metadata": {},
   "outputs": [],
   "source": [
    "dir_path = './pages'\n",
    "os.makedirs(dir_path, exist_ok=True)\n",
    "\n",
    "for page_no, page in conv_res.document.pages.items():\n",
    "    page_no = page.page_no\n",
    "    page_image_filename = f\"{page_no}.png\"\n",
    "    with open(os.path.join(dir_path, page_image_filename), 'wb') as fp: # use the built-in open() function\n",
    "        page.image.pil_image.save(fp, format='PNG')"
   ]
  },
  {
   "cell_type": "markdown",
   "id": "1e3bde91",
   "metadata": {},
   "source": [
    "### 3.4 Extract all the images from the document"
   ]
  },
  {
   "cell_type": "code",
   "execution_count": null,
   "id": "1d981afc",
   "metadata": {},
   "outputs": [],
   "source": [
    "dir_path = './images'\n",
    "os.makedirs(dir_path, exist_ok=True)\n",
    "\n",
    "images_list = []\n",
    "image_number = 1\n",
    "\n",
    "for element, _level in conv_res.document.iterate_items():\n",
    "    if isinstance(element, PictureItem):\n",
    "        element_image_filename = os.path.join(dir_path, str(image_number)) + '.png'\n",
    "        with open(element_image_filename, 'wb') as fp:\n",
    "            image = element.get_image(conv_res.document)\n",
    "            image.save(fp, 'PNG')\n",
    "            images_list.append(image)\n",
    "        image_number += 1"
   ]
  },
  {
   "cell_type": "code",
   "execution_count": null,
   "id": "b0195778",
   "metadata": {},
   "outputs": [],
   "source": [
    "display_images(images_list, images_per_row=5, figsize=(15,8))"
   ]
  },
  {
   "cell_type": "markdown",
   "id": "11a54d17",
   "metadata": {},
   "source": [
    "### 3.5 Extract all tables from the document"
   ]
  },
  {
   "cell_type": "code",
   "execution_count": null,
   "id": "3a874d6b",
   "metadata": {},
   "outputs": [],
   "source": [
    "dir_path = './tables'\n",
    "dir_paths = ['./tables/images', './tables/CSVs', './tables/HTMLs']\n",
    "\n",
    "[os.makedirs(path, exist_ok=True) for path in dir_paths]\n",
    "\n",
    "table_list = []\n",
    "table_number = 1\n",
    "\n",
    "for element, _level in conv_res.document.iterate_items():\n",
    "    if isinstance(element, TableItem):\n",
    "        \n",
    "        # saving tables as images\n",
    "        element_table_filename = os.path.join(dir_path, 'images', str(table_number)) + '.png'\n",
    "        with open(element_table_filename, 'wb') as fp:\n",
    "            table_image = element.get_image(conv_res.document)\n",
    "            table_image.save(fp,'PNG')\n",
    "            table_list.append(table_image)\n",
    "\n",
    "        # saving tables as CSV files\n",
    "        table_df: pd.DataFrame = element.export_to_dataframe()\n",
    "        element_table_filename = os.path.join(dir_path, 'CSVs', str(table_number)) + '.csv'\n",
    "        table_df.to_csv(element_table_filename)\n",
    "\n",
    "        # saving tables as HTML files\n",
    "        table_html = element.export_to_html()\n",
    "        element_table_filename = os.path.join(dir_path, 'HTMLs', str(table_number)) + '.html'\n",
    "        with open(element_table_filename, 'w') as fp:\n",
    "            fp.write(table_html)\n",
    "\n",
    "        table_number += 1 "
   ]
  },
  {
   "cell_type": "code",
   "execution_count": null,
   "id": "53d99ebb",
   "metadata": {},
   "outputs": [],
   "source": [
    "display_images(table_list, images_per_row=5, figsize=(15,8))"
   ]
  },
  {
   "cell_type": "markdown",
   "id": "f5c1baaa",
   "metadata": {},
   "source": [
    "## OCR pipeline"
   ]
  },
  {
   "cell_type": "raw",
   "id": "2fe34b27",
   "metadata": {},
   "source": [
    "def OCR_parsing(doc_path):\n",
    "    input_doc = Path(doc_path)\n",
    "    pipeline_options = PdfPipelineOptions()\n",
    "    pipeline_options.do_ocr = True\n",
    "    pipeline_options.do_table_structure = True\n",
    "    pipeline_options.table_structure_options.do_cell_matching = True\n",
    "    ocr_options = EasyOcrOptions(force_full_page_ocr=True)\n",
    "    pipeline_options.ocr_options = ocr_options\n",
    "    pipeline_options.generate_page_images = True\n",
    "\n",
    "    start_time = time.time()\n",
    "\n",
    "    converter = DocumentConverter(\n",
    "        format_options={\n",
    "            InputFormat.PDF: PdfFormatOption(\n",
    "                pipeline_options=pipeline_options,\n",
    "            )\n",
    "        }\n",
    "    )\n",
    "\n",
    "    result = converter.convert(input_doc)\n",
    "    end_time = time.time() - start_time\n",
    "    print(f'Total time take for parsing {end_time: .2f} seconds.')\n",
    "    return result"
   ]
  },
  {
   "cell_type": "raw",
   "id": "cb2af05f",
   "metadata": {
    "vscode": {
     "languageId": "raw"
    }
   },
   "source": [
    "OCR_result = OCR_parsing(source)\n",
    "\n",
    "extract = OCR_result.document.export_to_markdown()\n",
    "\n",
    "print('Docling Extract')\n",
    "print(extract)"
   ]
  },
  {
   "cell_type": "raw",
   "id": "a8f31c36",
   "metadata": {
    "vscode": {
     "languageId": "raw"
    }
   },
   "source": [
    "page_images = {page_no: page.image.pil_image for page_no, page in OCR_result.document.pages.items()}\n",
    "print('Actual Document')\n",
    "display_images(page_images, images_per_row=2, figsize=(100,50))"
   ]
  },
  {
   "cell_type": "markdown",
   "id": "dbbdf192",
   "metadata": {},
   "source": [
    "## Using Visual Language Model / Multi-Modal on images"
   ]
  },
  {
   "cell_type": "code",
   "execution_count": null,
   "id": "a63a34aa",
   "metadata": {},
   "outputs": [],
   "source": [
    "import base64\n",
    "import re\n",
    "import textwrap\n",
    "from io import BytesIO\n",
    "from pathlib import Path\n",
    "\n",
    "import numpy as np\n",
    "\n",
    "from docling.datamodel.base_models import FigureElement, InputFormat, Table\n",
    "from docling.backend.docling_parse_backend import DoclingParseDocumentBackend\n",
    "from docling.document_converter import DocumentConverter, PdfFormatOption\n",
    "from docling_core.types.doc import ImageRefMode, PictureItem, TableItem\n",
    "from docling.datamodel.pipeline_options import (\n",
    "    EasyOcrOptions,\n",
    "    OcrMacOptions,\n",
    "    PdfPipelineOptions,\n",
    "    RapidOcrOptions,\n",
    "    TesseractCliOcrOptions,\n",
    "    TesseractOcrOptions,\n",
    "    smolvlm_picture_description\n",
    ")\n",
    "\n",
    "from IPython.display import HTML, display\n",
    "from PIL import Image"
   ]
  },
  {
   "cell_type": "markdown",
   "id": "99762a03",
   "metadata": {},
   "source": [
    "### Convert PDF to markdown"
   ]
  },
  {
   "cell_type": "code",
   "execution_count": null,
   "id": "657ef626",
   "metadata": {},
   "outputs": [],
   "source": [
    "pipeline_options = PdfPipelineOptions(\n",
    "    generate_page_images=True,\n",
    "    images_scale=1.00,\n",
    "    do_ocr=True,\n",
    "    do_picture_description=True,\n",
    "    ocr_options=EasyOcrOptions(force_full_page_ocr=True),\n",
    "    picture_description_options=smolvlm_picture_description,\n",
    ")"
   ]
  },
  {
   "cell_type": "code",
   "execution_count": null,
   "id": "89fe32b5",
   "metadata": {},
   "outputs": [],
   "source": [
    "converter = DocumentConverter(\n",
    "    format_options={InputFormat.PDF: PdfFormatOption(pipeline_options=pipeline_options)}\n",
    ")"
   ]
  },
  {
   "cell_type": "code",
   "execution_count": null,
   "id": "d7947d8e",
   "metadata": {},
   "outputs": [],
   "source": [
    "result = converter.convert(source)\n",
    "\n",
    "document = result.document\n"
   ]
  },
  {
   "cell_type": "code",
   "execution_count": null,
   "id": "c5181f02",
   "metadata": {},
   "outputs": [],
   "source": [
    "print(document.export_to_markdown())"
   ]
  },
  {
   "cell_type": "markdown",
   "id": "cdfff550",
   "metadata": {},
   "source": [
    "### Visual Inspection"
   ]
  },
  {
   "cell_type": "code",
   "execution_count": null,
   "id": "732cefad",
   "metadata": {},
   "outputs": [],
   "source": [
    "def image_to_base64(image: Image.Image) -> str:\n",
    "    buffered = BytesIO()\n",
    "    image.save(buffered, format = 'PNG')\n",
    "    return base64.b64encode(buffered.getvalue()).decode('utf-8')\n",
    "\n",
    "def display_page(content: str, image: Image):\n",
    "    \n",
    "    html_template = f\"\"\" \n",
    "    <div style=\"display: flex; align-items: flex-start; gap: 40px; font-family: monospace;\"> \n",
    "        <div style=\"flex: 1; max-width: 45%;\">\n",
    "            <img src=\"data:image/png;base64, {image_to_base64(image)}\" style=\"width: 100%; height: auto; padding: 5px;\">\n",
    "        <div>\n",
    "        <div style = \"flex: 1; max-width: 45%; white-space: pre-wrap; padding: 10px;\">\n",
    "            <div style=\"word-wrap: break-word; max-width: 120ch;\">\n",
    "                {content}\n",
    "\n",
    "            <div>\n",
    "        <div>\n",
    "    <div>\n",
    "    \"\"\"\n",
    "\n",
    "    display(HTML(html_template))\n"
   ]
  },
  {
   "cell_type": "code",
   "execution_count": null,
   "id": "1d3d5437",
   "metadata": {},
   "outputs": [],
   "source": [
    "n_pages = len(document.pages)\n",
    "n_pages"
   ]
  },
  {
   "cell_type": "code",
   "execution_count": null,
   "id": "740e2652",
   "metadata": {},
   "outputs": [],
   "source": [
    "pages = []\n",
    "for page_num in range(1, n_pages + 1):\n",
    "    pages.append(\n",
    "        (\n",
    "            document.export_to_markdown(page_no=page_num),\n",
    "            document.pages[page_num].image.pil_image,\n",
    "        )\n",
    "    )"
   ]
  },
  {
   "cell_type": "code",
   "execution_count": null,
   "id": "36558509",
   "metadata": {},
   "outputs": [],
   "source": [
    "display_page(*pages[1])"
   ]
  },
  {
   "cell_type": "markdown",
   "id": "b6085ae5",
   "metadata": {},
   "source": [
    "### Image Annotations"
   ]
  },
  {
   "cell_type": "code",
   "execution_count": null,
   "id": "bc6a1628",
   "metadata": {},
   "outputs": [],
   "source": [
    "document.pictures[0].annotations"
   ]
  },
  {
   "cell_type": "code",
   "execution_count": null,
   "id": "7e894846",
   "metadata": {},
   "outputs": [],
   "source": [
    "len(document.pictures)"
   ]
  },
  {
   "cell_type": "code",
   "execution_count": null,
   "id": "ecf4868c",
   "metadata": {},
   "outputs": [],
   "source": [
    "annotations = []\n",
    "\n",
    "annotationscount = 1\n",
    "picturecount = 1\n",
    "\n",
    "for picture in document.pictures:\n",
    "    \n",
    "    print('processing for picture: ' + str(picturecount))\n",
    "          \n",
    "    picturecount = picturecount + 1       \n",
    "    \n",
    "    for annotation in picture.annotations:\n",
    "\n",
    "        print('processing for annotation: ' + str(annotationscount))\n",
    "        print(annotation.text)\n",
    "        annotations.append(annotation.text)\n",
    "        annotationscount = annotationscount + 1"
   ]
  },
  {
   "cell_type": "code",
   "execution_count": null,
   "id": "20eaaf83",
   "metadata": {},
   "outputs": [],
   "source": [
    "len(annotations)"
   ]
  },
  {
   "cell_type": "code",
   "execution_count": null,
   "id": "efdf223f",
   "metadata": {},
   "outputs": [],
   "source": [
    "annotations"
   ]
  },
  {
   "cell_type": "code",
   "execution_count": null,
   "id": "e2586723",
   "metadata": {},
   "outputs": [],
   "source": [
    "assert len(annotations) == len(document.pictures)"
   ]
  },
  {
   "cell_type": "code",
   "execution_count": null,
   "id": "abfe1a9b",
   "metadata": {},
   "outputs": [],
   "source": [
    "def replace_occurrences(text, target, replacements):\n",
    "    for replacement in replacements:\n",
    "        if target in text:\n",
    "            text = text.replace(target, replacement, 1)\n",
    "        else:\n",
    "            raise ValueError(\n",
    "                f\"No more occurrences of '{target}' found in the text for replacement ({replacement})\"\n",
    "            )\n",
    "        \n",
    "    return text"
   ]
  },
  {
   "cell_type": "code",
   "execution_count": null,
   "id": "ccfd6163",
   "metadata": {},
   "outputs": [],
   "source": [
    "IMAGE_PLACEHOLDER = \"<!-- image_placeholder -->\"\n",
    "PAGE_BREAK_PLACEHOLDER = \"<!-- page_break -->\"\n",
    "text = document.export_to_markdown(\n",
    "    image_placeholder=IMAGE_PLACEHOLDER, page_break_placeholder=PAGE_BREAK_PLACEHOLDER,\n",
    ") #maybe for IDD business case, we can tag words like image_placeholder and also which section does it belong to... then we can leverage it to the VLM to enrich the prompt (e.g., this image is regarding Firm AUM for the manager) for better annotation once it analyse the image"
   ]
  },
  {
   "cell_type": "code",
   "execution_count": null,
   "id": "450ed7f2",
   "metadata": {},
   "outputs": [],
   "source": [
    "print(text)"
   ]
  },
  {
   "cell_type": "code",
   "execution_count": null,
   "id": "023b358f",
   "metadata": {},
   "outputs": [],
   "source": [
    "print(replace_occurrences(text, IMAGE_PLACEHOLDER, annotations))"
   ]
  },
  {
   "cell_type": "markdown",
   "id": "447f5251",
   "metadata": {},
   "source": [
    "### Document Processing Pipeline"
   ]
  },
  {
   "cell_type": "code",
   "execution_count": null,
   "id": "90a052db",
   "metadata": {},
   "outputs": [],
   "source": [
    "def process_document(document_path: Path, converter: DocumentConverter, n_pages: int = -1) -> str:\n",
    "    \n",
    "    result = converter.convert(document_path)\n",
    "    document = result.document\n",
    "\n",
    "    annotations = []\n",
    "    \n",
    "    for picture in document.pictures:\n",
    "        for annotation in picture.annotations:\n",
    "            annotations.append(annotation.text)\n",
    "\n",
    "    assert len(annotations) == len(document.pictures)\n",
    "\n",
    "    text = document.export_to_markdown(\n",
    "        page_break_placeholder=PAGE_BREAK_PLACEHOLDER,\n",
    "        image_placeholder=IMAGE_PLACEHOLDER\n",
    "    )\n",
    "    text = replace_occurrences(text, IMAGE_PLACEHOLDER, annotation)\n",
    "    if n_pages == -1:\n",
    "        return text\n",
    "    \n",
    "    return PAGE_BREAK_PLACEHOLDER.join(text.split(PAGE_BREAK_PLACEHOLDER)[:n_pages])"
   ]
  },
  {
   "cell_type": "code",
   "execution_count": null,
   "id": "41b62e83",
   "metadata": {},
   "outputs": [],
   "source": [
    "document_text = process_document(source, converter, n_pages=4)"
   ]
  },
  {
   "cell_type": "code",
   "execution_count": null,
   "id": "84483c23",
   "metadata": {},
   "outputs": [],
   "source": [
    "print(len(document_text.split(\"\")))"
   ]
  },
  {
   "cell_type": "code",
   "execution_count": null,
   "id": "a6fbe0e5",
   "metadata": {},
   "outputs": [],
   "source": [
    "print(document_text)"
   ]
  }
 ],
 "metadata": {
  "kernelspec": {
   "display_name": ".venv (3.11.4)",
   "language": "python",
   "name": "python3"
  },
  "language_info": {
   "codemirror_mode": {
    "name": "ipython",
    "version": 3
   },
   "file_extension": ".py",
   "mimetype": "text/x-python",
   "name": "python",
   "nbconvert_exporter": "python",
   "pygments_lexer": "ipython3",
   "version": "3.11.4"
  }
 },
 "nbformat": 4,
 "nbformat_minor": 5
}
